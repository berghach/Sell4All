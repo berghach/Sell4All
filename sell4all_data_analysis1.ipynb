{
 "cells": [
  {
   "cell_type": "markdown",
   "id": "ba4c5f8c",
   "metadata": {},
   "source": [
    "# Partie 2"
   ]
  },
  {
   "cell_type": "code",
   "execution_count": null,
   "id": "5e4537b4-3aa8-419c-ad64-89bd57012a4f",
   "metadata": {},
   "outputs": [],
   "source": [
    "import pandas as pd\n",
    "import matplotlib.pyplot as plt\n",
    "import seaborn as sns\n",
    "\n",
    "file_path = 'data-sell4all.csv'\n",
    "data = pd.read_csv(file_path)\n",
    "\n",
    "data['Dépenses des clients'] = pd.to_numeric(data['Dépenses des clients'], errors='coerce')\n",
    "\n",
    "if 'Pays' not in data.columns:\n",
    "    raise ValueError(\"La colonne 'Pays' n'existe pas dans les données.\")\n",
    "\n",
    "grouped_data = data.groupby('Pays')['Dépenses des clients'].sum().reset_index()\n",
    "\n",
    "plt.figure(figsize=(15, 10))\n",
    "ax = sns.barplot(x='Pays', y='Dépenses des clients', data=grouped_data, palette='viridis')\n",
    "\n",
    "ax.set_xlabel('Pays')\n",
    "ax.set_ylabel('Dépenses des clients')\n",
    "ax.set_title('Dépenses des Clients par Pays')\n",
    "ax.set_xticklabels(ax.get_xticklabels(), rotation=45, ha='right')\n",
    "\n",
    "ax.set_ylim(0, grouped_data['Dépenses des clients'].max() + 10000)\n",
    "\n",
    "plt.tight_layout()\n",
    "plt.show()"
   ]
  },
  {
   "cell_type": "code",
   "execution_count": null,
   "id": "9f39ce22",
   "metadata": {},
   "outputs": [],
   "source": [
    "data['Dépenses des clients'] = pd.to_numeric(data['Dépenses des clients'], errors='coerce')\n",
    "\n",
    "data_cleaned = data.loc[data['Dépenses des clients'] > 10].copy()\n",
    "\n",
    "print(data_cleaned.head())\n",
    "\n",
    "data_cleaned.to_csv('dataset-sell4all-cleaned.csv', index=False)\n",
    "\n",
    "data_cleaned"
   ]
  },
  {
   "cell_type": "code",
   "execution_count": null,
   "id": "7d4cbc1e",
   "metadata": {},
   "outputs": [],
   "source": [
    "data['Dépenses des clients'] = pd.to_numeric(data['Dépenses des clients'], errors='coerce')\n",
    "\n",
    "data_cleaned1 = data.drop_duplicates()\n",
    "\n",
    "data_cleaned1.to_csv('dataset-sell4all-cleaned(1).csv', index=False)\n",
    "\n",
    "data_cleaned1"
   ]
  }
 ],
 "metadata": {
  "kernelspec": {
   "display_name": "Python 3 (ipykernel)",
   "language": "python",
   "name": "python3"
  },
  "language_info": {
   "codemirror_mode": {
    "name": "ipython",
    "version": 3
   },
   "file_extension": ".py",
   "mimetype": "text/x-python",
   "name": "python",
   "nbconvert_exporter": "python",
   "pygments_lexer": "ipython3",
   "version": "3.12.4"
  }
 },
 "nbformat": 4,
 "nbformat_minor": 5
}
