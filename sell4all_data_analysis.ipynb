{
 "cells": [
  {
   "cell_type": "markdown",
   "id": "8f509807",
   "metadata": {},
   "source": [
    "# Partie 1"
   ]
  },
  {
   "cell_type": "code",
   "execution_count": null,
   "id": "d80ce666-64b5-4f8f-af7f-8014f3a79690",
   "metadata": {},
   "outputs": [],
   "source": [
    "import pandas as pd\n",
    "import matplotlib.pyplot as plt\n",
    "import seaborn as sns\n",
    "\n",
    "file_path = 'data-sell4all.csv'\n",
    "data = pd.read_csv(file_path)\n",
    "\n",
    "print(data.head())"
   ]
  },
  {
   "cell_type": "code",
   "execution_count": null,
   "id": "174656f4-f4ad-46dc-89de-8e853cd671ba",
   "metadata": {},
   "outputs": [],
   "source": [
    "num_rows = len(data)\n",
    "print(f\"Nombre de lignes : {num_rows}\")"
   ]
  },
  {
   "cell_type": "code",
   "execution_count": null,
   "id": "8e48dacc-ac14-49fb-bfda-a9697ed9544f",
   "metadata": {},
   "outputs": [],
   "source": [
    "columns = data.columns\n",
    "print(f\"Colonnes du fichier CSV : {columns.tolist()}\")"
   ]
  },
  {
   "cell_type": "code",
   "execution_count": null,
   "id": "ebf93395-e321-47bc-bac2-644c93b56232",
   "metadata": {},
   "outputs": [],
   "source": [
    "data_types = data.dtypes\n",
    "print(\"Types de données des champs du fichier CSV :\")\n",
    "print(data_types)"
   ]
  },
  {
   "cell_type": "markdown",
   "id": "b275729f-ddaa-4c7d-a307-0ab2afa28dd3",
   "metadata": {},
   "source": [
    "## Résumé Technique des Données du Fichier CSV\n",
    "\n",
    "Voici un résumé technique des données contenues dans le fichier CSV `data-sell4all.csv` :\n",
    "\n",
    "1. **Nombre de lignes :**\n",
    "   - Le fichier CSV contient **65** lignes. Cela correspond au nombre total d'enregistrements dans le dataset, excluant l'en-tête.\n",
    "\n",
    "2. **Colonnes du fichier CSV :**\n",
    "   - Les colonnes disponibles dans le fichier sont :\n",
    "      - *Pays*\n",
    "      - *Age*\n",
    "      - *Genre*\n",
    "      - *Dépenses des clients*\n",
    "\n",
    "3. **Types de données des champs du fichier CSV :**\n",
    "   - Les types de données pour chaque colonne sont les suivants :\n",
    "      - *Pays* de type **object**\n",
    "      - *Age* de type **object**\n",
    "      - *Genre* de type **object**\n",
    "      - *Dépenses des clients* de type **object**\n",
    "      \n",
    "\n"
   ]
  },
  {
   "cell_type": "code",
   "execution_count": null,
   "id": "743b4f32",
   "metadata": {},
   "outputs": [],
   "source": [
    "print(data.columns)"
   ]
  },
  {
   "cell_type": "code",
   "execution_count": null,
   "id": "775b6035",
   "metadata": {},
   "outputs": [],
   "source": [
    "age = pd.to_numeric(data[' Age '], errors='coerce')\n",
    "\n",
    "age_median = age.median()\n",
    "age_mean = age.mean()\n",
    "\n",
    "depenses = pd.to_numeric(data['Dépenses des clients'], errors='coerce')\n",
    "\n",
    "depenses_median = depenses.median()\n",
    "depenses_mean = depenses.mean()\n",
    "\n",
    "print(f\"Médiane de l'Âge : {age_median}\")\n",
    "print(f\"Moyenne de l'Âge : {age_mean}\")\n",
    "print(f\"Médiane des Dépenses des clients : {depenses_median}\")\n",
    "print(f\"Moyenne des Dépenses des clients : {depenses_mean}\")\n"
   ]
  }
 ],
 "metadata": {
  "kernelspec": {
   "display_name": "Python 3 (ipykernel)",
   "language": "python",
   "name": "python3"
  },
  "language_info": {
   "codemirror_mode": {
    "name": "ipython",
    "version": 3
   },
   "file_extension": ".py",
   "mimetype": "text/x-python",
   "name": "python",
   "nbconvert_exporter": "python",
   "pygments_lexer": "ipython3",
   "version": "3.12.4"
  }
 },
 "nbformat": 4,
 "nbformat_minor": 5
}
